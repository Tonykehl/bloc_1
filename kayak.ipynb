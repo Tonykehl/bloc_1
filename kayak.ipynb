{
  "nbformat": 4,
  "nbformat_minor": 0,
  "metadata": {
    "colab": {
      "provenance": []
    },
    "kernelspec": {
      "name": "python3",
      "display_name": "Python 3"
    },
    "language_info": {
      "name": "python"
    }
  },
  "cells": [
    {
      "cell_type": "code",
      "execution_count": 3,
      "metadata": {
        "id": "2bU_VorCt0N1"
      },
      "outputs": [],
      "source": [
        "import requests\n",
        "import pandas as pd\n",
        "import json"
      ]
    },
    {
      "cell_type": "code",
      "source": [
        "cities = [\"Mont Saint Michel\",\n",
        "\"St Malo\",\n",
        "\"Bayeux\",\n",
        "\"Le Havre\",\n",
        "\"Rouen\",\n",
        "\"Paris\",\n",
        "\"Amiens\",\n",
        "\"Lille\",\n",
        "\"Strasbourg\",\n",
        "\"Chateau du Haut Koenigsbourg\",\n",
        "\"Colmar\",\n",
        "\"Eguisheim\",\n",
        "\"Besancon\",\n",
        "\"Dijon\",\n",
        "\"Annecy\",\n",
        "\"Grenoble\",\n",
        "\"Lyon\",\n",
        "\"Gorges du Verdon\",\n",
        "\"Bormes les Mimosas\",\n",
        "\"Cassis\",\n",
        "\"Marseille\",\n",
        "\"Aix en Provence\",\n",
        "\"Avignon\",\n",
        "\"Uzes\",\n",
        "\"Nimes\",\n",
        "\"Aigues Mortes\",\n",
        "\"Saintes Maries de la mer\",\n",
        "\"Collioure\",\n",
        "\"Carcassonne\",\n",
        "\"Ariege\",\n",
        "\"Toulouse\",\n",
        "\"Montauban\",\n",
        "\"Biarritz\",\n",
        "\"Bayonne\",\n",
        "\"La Rochelle\"]\n",
        "\n",
        "gps_data = []\n",
        "\n",
        "for city in cities:\n",
        "    url = f\"https://nominatim.openstreetmap.org/search?q={city}&format=json\"\n",
        "    response = requests.get(url).json()\n",
        "    if len(response) > 0:\n",
        "        lat = response[0][\"lat\"]\n",
        "        lon = response[0][\"lon\"]\n",
        "        gps_data.append({\"city\": city, \"lat\": lat, \"lon\": lon})\n",
        "\n",
        "print(gps_data)"
      ],
      "metadata": {
        "colab": {
          "base_uri": "https://localhost:8080/"
        },
        "id": "483VaQTfusHz",
        "outputId": "354c60c4-49f4-434b-b1e2-16a706e2917b"
      },
      "execution_count": 4,
      "outputs": [
        {
          "output_type": "stream",
          "name": "stdout",
          "text": [
            "[{'city': 'Mont Saint Michel', 'lat': '48.6359541', 'lon': '-1.511459954959514'}, {'city': 'St Malo', 'lat': '48.649518', 'lon': '-2.0260409'}, {'city': 'Bayeux', 'lat': '49.2764624', 'lon': '-0.7024738'}, {'city': 'Le Havre', 'lat': '49.4938975', 'lon': '0.1079732'}, {'city': 'Rouen', 'lat': '49.4404591', 'lon': '1.0939658'}, {'city': 'Paris', 'lat': '48.8534951', 'lon': '2.3483915'}, {'city': 'Amiens', 'lat': '49.8941708', 'lon': '2.2956951'}, {'city': 'Lille', 'lat': '50.6365654', 'lon': '3.0635282'}, {'city': 'Strasbourg', 'lat': '48.584614', 'lon': '7.7507127'}, {'city': 'Chateau du Haut Koenigsbourg', 'lat': '48.249489800000006', 'lon': '7.34429620253195'}, {'city': 'Colmar', 'lat': '48.0777517', 'lon': '7.3579641'}, {'city': 'Eguisheim', 'lat': '48.0447968', 'lon': '7.3079618'}, {'city': 'Besancon', 'lat': '47.2380222', 'lon': '6.0243622'}, {'city': 'Dijon', 'lat': '47.3215806', 'lon': '5.0414701'}, {'city': 'Annecy', 'lat': '45.8992348', 'lon': '6.1288847'}, {'city': 'Grenoble', 'lat': '45.1875602', 'lon': '5.7357819'}, {'city': 'Lyon', 'lat': '45.7578137', 'lon': '4.8320114'}, {'city': 'Gorges du Verdon', 'lat': '43.7496562', 'lon': '6.3285616'}, {'city': 'Bormes les Mimosas', 'lat': '43.1506968', 'lon': '6.3419285'}, {'city': 'Cassis', 'lat': '43.2140359', 'lon': '5.5396318'}, {'city': 'Marseille', 'lat': '43.2961743', 'lon': '5.3699525'}, {'city': 'Aix en Provence', 'lat': '43.5298424', 'lon': '5.4474738'}, {'city': 'Avignon', 'lat': '43.9492493', 'lon': '4.8059012'}, {'city': 'Uzes', 'lat': '44.0121279', 'lon': '4.4196718'}, {'city': 'Nimes', 'lat': '43.8374249', 'lon': '4.3600687'}, {'city': 'Aigues Mortes', 'lat': '43.5658225', 'lon': '4.1912837'}, {'city': 'Saintes Maries de la mer', 'lat': '43.4522771', 'lon': '4.4287172'}, {'city': 'Collioure', 'lat': '42.52505', 'lon': '3.0831554'}, {'city': 'Carcassonne', 'lat': '43.2130358', 'lon': '2.3491069'}, {'city': 'Ariege', 'lat': '42.9455368', 'lon': '1.4065544156065486'}, {'city': 'Toulouse', 'lat': '43.6044622', 'lon': '1.4442469'}, {'city': 'Montauban', 'lat': '44.0175835', 'lon': '1.3549991'}, {'city': 'Biarritz', 'lat': '43.471143749999996', 'lon': '-1.552726590666314'}, {'city': 'Bayonne', 'lat': '43.4945144', 'lon': '-1.4736657'}, {'city': 'La Rochelle', 'lat': '46.1591126', 'lon': '-1.1520434'}]\n"
          ]
        }
      ]
    },
    {
      "cell_type": "code",
      "source": [
        "# Convertir la liste en DataFrame de Pandas\n",
        "cities_df = pd.DataFrame(gps_data)\n",
        "\n",
        "# Afficher le DataFrame\n",
        "print(cities_df)"
      ],
      "metadata": {
        "colab": {
          "base_uri": "https://localhost:8080/"
        },
        "id": "RiSPhed5I6ec",
        "outputId": "527728ce-e2a6-4359-8a5e-cbb6faa392da"
      },
      "execution_count": 5,
      "outputs": [
        {
          "output_type": "stream",
          "name": "stdout",
          "text": [
            "                            city                 lat                 lon\n",
            "0              Mont Saint Michel          48.6359541  -1.511459954959514\n",
            "1                        St Malo           48.649518          -2.0260409\n",
            "2                         Bayeux          49.2764624          -0.7024738\n",
            "3                       Le Havre          49.4938975           0.1079732\n",
            "4                          Rouen          49.4404591           1.0939658\n",
            "5                          Paris          48.8534951           2.3483915\n",
            "6                         Amiens          49.8941708           2.2956951\n",
            "7                          Lille          50.6365654           3.0635282\n",
            "8                     Strasbourg           48.584614           7.7507127\n",
            "9   Chateau du Haut Koenigsbourg  48.249489800000006    7.34429620253195\n",
            "10                        Colmar          48.0777517           7.3579641\n",
            "11                     Eguisheim          48.0447968           7.3079618\n",
            "12                      Besancon          47.2380222           6.0243622\n",
            "13                         Dijon          47.3215806           5.0414701\n",
            "14                        Annecy          45.8992348           6.1288847\n",
            "15                      Grenoble          45.1875602           5.7357819\n",
            "16                          Lyon          45.7578137           4.8320114\n",
            "17              Gorges du Verdon          43.7496562           6.3285616\n",
            "18            Bormes les Mimosas          43.1506968           6.3419285\n",
            "19                        Cassis          43.2140359           5.5396318\n",
            "20                     Marseille          43.2961743           5.3699525\n",
            "21               Aix en Provence          43.5298424           5.4474738\n",
            "22                       Avignon          43.9492493           4.8059012\n",
            "23                          Uzes          44.0121279           4.4196718\n",
            "24                         Nimes          43.8374249           4.3600687\n",
            "25                 Aigues Mortes          43.5658225           4.1912837\n",
            "26      Saintes Maries de la mer          43.4522771           4.4287172\n",
            "27                     Collioure            42.52505           3.0831554\n",
            "28                   Carcassonne          43.2130358           2.3491069\n",
            "29                        Ariege          42.9455368  1.4065544156065486\n",
            "30                      Toulouse          43.6044622           1.4442469\n",
            "31                     Montauban          44.0175835           1.3549991\n",
            "32                      Biarritz  43.471143749999996  -1.552726590666314\n",
            "33                       Bayonne          43.4945144          -1.4736657\n",
            "34                   La Rochelle          46.1591126          -1.1520434\n"
          ]
        }
      ]
    },
    {
      "cell_type": "code",
      "source": [
        "import csv\n",
        "\n",
        "# Clé API OpenWeatherMap\n",
        "api_key = \"a4e5008c480059b87fd7cd12af9dcf73\"\n",
        "\n",
        "# Fonction pour récupérer les données météorologiques pour une ville\n",
        "def get_weather_data(city):\n",
        "    url = f\"http://api.openweathermap.org/data/2.5/weather?lat={city['lat']}&lon={city['lon']}&appid={api_key}&units=metric\"\n",
        "    response = requests.get(url)\n",
        "    data = response.json()\n",
        "    weather_data = {\n",
        "        \"city\": city[\"city\"],\n",
        "        \"lat\": city['lat'],\n",
        "        \"lon\": city['lon'],\n",
        "        \"date\": pd.Timestamp.now(),\n",
        "        \"temp\": data[\"main\"][\"temp\"],\n",
        "        \"humidity\": data[\"main\"][\"humidity\"],\n",
        "        \"wind_speed\": data[\"wind\"][\"speed\"],\n",
        "        \"description\": data[\"weather\"][0][\"description\"]\n",
        "    }\n",
        "    return weather_data\n",
        "\n",
        "# Récupérer les données météorologiques pour chaque ville\n",
        "weather_data = []\n",
        "for city in gps_data:\n",
        "    city_weather = get_weather_data(city)\n",
        "    weather_data.append(city_weather)\n",
        "\n",
        "# Convertir les données en DataFrame pandas\n",
        "df_weather = pd.DataFrame(weather_data)\n",
        "\n",
        "# Stocker les données dans un fichier CSV\n",
        "df_weather.to_csv(\"weather_data.csv\", index=False)\n",
        "\n",
        "# Afficher les 5 premières lignes du DataFrame\n",
        "print(df_weather.head())"
      ],
      "metadata": {
        "colab": {
          "base_uri": "https://localhost:8080/"
        },
        "id": "9YWn2WK8_b_8",
        "outputId": "9b5fb4f4-52e5-4f99-a808-3de8326059a9"
      },
      "execution_count": 6,
      "outputs": [
        {
          "output_type": "stream",
          "name": "stdout",
          "text": [
            "                city         lat                 lon  \\\n",
            "0  Mont Saint Michel  48.6359541  -1.511459954959514   \n",
            "1            St Malo   48.649518          -2.0260409   \n",
            "2             Bayeux  49.2764624          -0.7024738   \n",
            "3           Le Havre  49.4938975           0.1079732   \n",
            "4              Rouen  49.4404591           1.0939658   \n",
            "\n",
            "                        date   temp  humidity  wind_speed description  \n",
            "0 2023-05-13 20:12:15.179796  11.39        92        3.63   clear sky  \n",
            "1 2023-05-13 20:12:15.449357  11.21        93        3.09   clear sky  \n",
            "2 2023-05-13 20:12:15.695134  11.14        93        3.03   clear sky  \n",
            "3 2023-05-13 20:12:16.139222  11.51        93        4.12        mist  \n",
            "4 2023-05-13 20:12:16.337903  12.18        83        5.66   clear sky  \n"
          ]
        }
      ]
    },
    {
      "cell_type": "code",
      "source": [
        "df_weather[\"lat\"] = df_weather[\"lat\"].astype(float) \n",
        "df_weather[\"lon\"] = df_weather[\"lon\"].astype(float)"
      ],
      "metadata": {
        "id": "2Ei3Vr8oWMsY"
      },
      "execution_count": 7,
      "outputs": []
    },
    {
      "cell_type": "code",
      "source": [
        "import plotly.express as px\n",
        "# Affichage de la carte avec Plotly\n",
        "fig = px.scatter_mapbox(df_weather, lat=\"lat\",  lon=\"lon\", color=\"temp\", mapbox_style=\"carto-positron\", zoom=4.5, size=\"temp\" )\n",
        "fig.show()"
      ],
      "metadata": {
        "colab": {
          "base_uri": "https://localhost:8080/",
          "height": 542
        },
        "id": "txWhL8t7VpkH",
        "outputId": "f9b5239a-ae85-4920-f3a5-019f036ace96"
      },
      "execution_count": 8,
      "outputs": [
        {
          "output_type": "display_data",
          "data": {
            "text/html": [
              "<html>\n",
              "<head><meta charset=\"utf-8\" /></head>\n",
              "<body>\n",
              "    <div>            <script src=\"https://cdnjs.cloudflare.com/ajax/libs/mathjax/2.7.5/MathJax.js?config=TeX-AMS-MML_SVG\"></script><script type=\"text/javascript\">if (window.MathJax && window.MathJax.Hub && window.MathJax.Hub.Config) {window.MathJax.Hub.Config({SVG: {font: \"STIX-Web\"}});}</script>                <script type=\"text/javascript\">window.PlotlyConfig = {MathJaxConfig: 'local'};</script>\n",
              "        <script src=\"https://cdn.plot.ly/plotly-2.18.2.min.js\"></script>                <div id=\"df9c0007-38db-4819-a1f2-c199693782b0\" class=\"plotly-graph-div\" style=\"height:525px; width:100%;\"></div>            <script type=\"text/javascript\">                                    window.PLOTLYENV=window.PLOTLYENV || {};                                    if (document.getElementById(\"df9c0007-38db-4819-a1f2-c199693782b0\")) {                    Plotly.newPlot(                        \"df9c0007-38db-4819-a1f2-c199693782b0\",                        [{\"hovertemplate\":\"temp=%{marker.color}<br>lat=%{lat}<br>lon=%{lon}<extra></extra>\",\"lat\":[48.6359541,48.649518,49.2764624,49.4938975,49.4404591,48.8534951,49.8941708,50.6365654,48.584614,48.249489800000006,48.0777517,48.0447968,47.2380222,47.3215806,45.8992348,45.1875602,45.7578137,43.7496562,43.1506968,43.2140359,43.2961743,43.5298424,43.9492493,44.0121279,43.8374249,43.5658225,43.4522771,42.52505,43.2130358,42.9455368,43.6044622,44.0175835,43.471143749999996,43.4945144,46.1591126],\"legendgroup\":\"\",\"lon\":[-1.511459954959514,-2.0260409,-0.7024738,0.1079732,1.0939658,2.3483915,2.2956951,3.0635282,7.7507127,7.34429620253195,7.3579641,7.3079618,6.0243622,5.0414701,6.1288847,5.7357819,4.8320114,6.3285616,6.3419285,5.5396318,5.3699525,5.4474738,4.8059012,4.4196718,4.3600687,4.1912837,4.4287172,3.0831554,2.3491069,1.4065544156065486,1.4442469,1.3549991,-1.552726590666314,-1.4736657,-1.1520434],\"marker\":{\"color\":[11.39,11.21,11.14,11.51,12.18,15.28,11.21,11.65,14.86,11.01,13.83,13.87,11.55,12.8,11.8,11.7,11.03,8.94,13.49,14.52,14.7,13.16,13.15,13.11,14.1,15.85,14.73,15.73,12.21,5.84,13.97,13.91,14.05,14.28,14.98],\"coloraxis\":\"coloraxis\",\"size\":[11.39,11.21,11.14,11.51,12.18,15.28,11.21,11.65,14.86,11.01,13.83,13.87,11.55,12.8,11.8,11.7,11.03,8.94,13.49,14.52,14.7,13.16,13.15,13.11,14.1,15.85,14.73,15.73,12.21,5.84,13.97,13.91,14.05,14.28,14.98],\"sizemode\":\"area\",\"sizeref\":0.039625},\"mode\":\"markers\",\"name\":\"\",\"showlegend\":false,\"subplot\":\"mapbox\",\"type\":\"scattermapbox\"}],                        {\"template\":{\"data\":{\"histogram2dcontour\":[{\"type\":\"histogram2dcontour\",\"colorbar\":{\"outlinewidth\":0,\"ticks\":\"\"},\"colorscale\":[[0.0,\"#0d0887\"],[0.1111111111111111,\"#46039f\"],[0.2222222222222222,\"#7201a8\"],[0.3333333333333333,\"#9c179e\"],[0.4444444444444444,\"#bd3786\"],[0.5555555555555556,\"#d8576b\"],[0.6666666666666666,\"#ed7953\"],[0.7777777777777778,\"#fb9f3a\"],[0.8888888888888888,\"#fdca26\"],[1.0,\"#f0f921\"]]}],\"choropleth\":[{\"type\":\"choropleth\",\"colorbar\":{\"outlinewidth\":0,\"ticks\":\"\"}}],\"histogram2d\":[{\"type\":\"histogram2d\",\"colorbar\":{\"outlinewidth\":0,\"ticks\":\"\"},\"colorscale\":[[0.0,\"#0d0887\"],[0.1111111111111111,\"#46039f\"],[0.2222222222222222,\"#7201a8\"],[0.3333333333333333,\"#9c179e\"],[0.4444444444444444,\"#bd3786\"],[0.5555555555555556,\"#d8576b\"],[0.6666666666666666,\"#ed7953\"],[0.7777777777777778,\"#fb9f3a\"],[0.8888888888888888,\"#fdca26\"],[1.0,\"#f0f921\"]]}],\"heatmap\":[{\"type\":\"heatmap\",\"colorbar\":{\"outlinewidth\":0,\"ticks\":\"\"},\"colorscale\":[[0.0,\"#0d0887\"],[0.1111111111111111,\"#46039f\"],[0.2222222222222222,\"#7201a8\"],[0.3333333333333333,\"#9c179e\"],[0.4444444444444444,\"#bd3786\"],[0.5555555555555556,\"#d8576b\"],[0.6666666666666666,\"#ed7953\"],[0.7777777777777778,\"#fb9f3a\"],[0.8888888888888888,\"#fdca26\"],[1.0,\"#f0f921\"]]}],\"heatmapgl\":[{\"type\":\"heatmapgl\",\"colorbar\":{\"outlinewidth\":0,\"ticks\":\"\"},\"colorscale\":[[0.0,\"#0d0887\"],[0.1111111111111111,\"#46039f\"],[0.2222222222222222,\"#7201a8\"],[0.3333333333333333,\"#9c179e\"],[0.4444444444444444,\"#bd3786\"],[0.5555555555555556,\"#d8576b\"],[0.6666666666666666,\"#ed7953\"],[0.7777777777777778,\"#fb9f3a\"],[0.8888888888888888,\"#fdca26\"],[1.0,\"#f0f921\"]]}],\"contourcarpet\":[{\"type\":\"contourcarpet\",\"colorbar\":{\"outlinewidth\":0,\"ticks\":\"\"}}],\"contour\":[{\"type\":\"contour\",\"colorbar\":{\"outlinewidth\":0,\"ticks\":\"\"},\"colorscale\":[[0.0,\"#0d0887\"],[0.1111111111111111,\"#46039f\"],[0.2222222222222222,\"#7201a8\"],[0.3333333333333333,\"#9c179e\"],[0.4444444444444444,\"#bd3786\"],[0.5555555555555556,\"#d8576b\"],[0.6666666666666666,\"#ed7953\"],[0.7777777777777778,\"#fb9f3a\"],[0.8888888888888888,\"#fdca26\"],[1.0,\"#f0f921\"]]}],\"surface\":[{\"type\":\"surface\",\"colorbar\":{\"outlinewidth\":0,\"ticks\":\"\"},\"colorscale\":[[0.0,\"#0d0887\"],[0.1111111111111111,\"#46039f\"],[0.2222222222222222,\"#7201a8\"],[0.3333333333333333,\"#9c179e\"],[0.4444444444444444,\"#bd3786\"],[0.5555555555555556,\"#d8576b\"],[0.6666666666666666,\"#ed7953\"],[0.7777777777777778,\"#fb9f3a\"],[0.8888888888888888,\"#fdca26\"],[1.0,\"#f0f921\"]]}],\"mesh3d\":[{\"type\":\"mesh3d\",\"colorbar\":{\"outlinewidth\":0,\"ticks\":\"\"}}],\"scatter\":[{\"fillpattern\":{\"fillmode\":\"overlay\",\"size\":10,\"solidity\":0.2},\"type\":\"scatter\"}],\"parcoords\":[{\"type\":\"parcoords\",\"line\":{\"colorbar\":{\"outlinewidth\":0,\"ticks\":\"\"}}}],\"scatterpolargl\":[{\"type\":\"scatterpolargl\",\"marker\":{\"colorbar\":{\"outlinewidth\":0,\"ticks\":\"\"}}}],\"bar\":[{\"error_x\":{\"color\":\"#2a3f5f\"},\"error_y\":{\"color\":\"#2a3f5f\"},\"marker\":{\"line\":{\"color\":\"#E5ECF6\",\"width\":0.5},\"pattern\":{\"fillmode\":\"overlay\",\"size\":10,\"solidity\":0.2}},\"type\":\"bar\"}],\"scattergeo\":[{\"type\":\"scattergeo\",\"marker\":{\"colorbar\":{\"outlinewidth\":0,\"ticks\":\"\"}}}],\"scatterpolar\":[{\"type\":\"scatterpolar\",\"marker\":{\"colorbar\":{\"outlinewidth\":0,\"ticks\":\"\"}}}],\"histogram\":[{\"marker\":{\"pattern\":{\"fillmode\":\"overlay\",\"size\":10,\"solidity\":0.2}},\"type\":\"histogram\"}],\"scattergl\":[{\"type\":\"scattergl\",\"marker\":{\"colorbar\":{\"outlinewidth\":0,\"ticks\":\"\"}}}],\"scatter3d\":[{\"type\":\"scatter3d\",\"line\":{\"colorbar\":{\"outlinewidth\":0,\"ticks\":\"\"}},\"marker\":{\"colorbar\":{\"outlinewidth\":0,\"ticks\":\"\"}}}],\"scattermapbox\":[{\"type\":\"scattermapbox\",\"marker\":{\"colorbar\":{\"outlinewidth\":0,\"ticks\":\"\"}}}],\"scatterternary\":[{\"type\":\"scatterternary\",\"marker\":{\"colorbar\":{\"outlinewidth\":0,\"ticks\":\"\"}}}],\"scattercarpet\":[{\"type\":\"scattercarpet\",\"marker\":{\"colorbar\":{\"outlinewidth\":0,\"ticks\":\"\"}}}],\"carpet\":[{\"aaxis\":{\"endlinecolor\":\"#2a3f5f\",\"gridcolor\":\"white\",\"linecolor\":\"white\",\"minorgridcolor\":\"white\",\"startlinecolor\":\"#2a3f5f\"},\"baxis\":{\"endlinecolor\":\"#2a3f5f\",\"gridcolor\":\"white\",\"linecolor\":\"white\",\"minorgridcolor\":\"white\",\"startlinecolor\":\"#2a3f5f\"},\"type\":\"carpet\"}],\"table\":[{\"cells\":{\"fill\":{\"color\":\"#EBF0F8\"},\"line\":{\"color\":\"white\"}},\"header\":{\"fill\":{\"color\":\"#C8D4E3\"},\"line\":{\"color\":\"white\"}},\"type\":\"table\"}],\"barpolar\":[{\"marker\":{\"line\":{\"color\":\"#E5ECF6\",\"width\":0.5},\"pattern\":{\"fillmode\":\"overlay\",\"size\":10,\"solidity\":0.2}},\"type\":\"barpolar\"}],\"pie\":[{\"automargin\":true,\"type\":\"pie\"}]},\"layout\":{\"autotypenumbers\":\"strict\",\"colorway\":[\"#636efa\",\"#EF553B\",\"#00cc96\",\"#ab63fa\",\"#FFA15A\",\"#19d3f3\",\"#FF6692\",\"#B6E880\",\"#FF97FF\",\"#FECB52\"],\"font\":{\"color\":\"#2a3f5f\"},\"hovermode\":\"closest\",\"hoverlabel\":{\"align\":\"left\"},\"paper_bgcolor\":\"white\",\"plot_bgcolor\":\"#E5ECF6\",\"polar\":{\"bgcolor\":\"#E5ECF6\",\"angularaxis\":{\"gridcolor\":\"white\",\"linecolor\":\"white\",\"ticks\":\"\"},\"radialaxis\":{\"gridcolor\":\"white\",\"linecolor\":\"white\",\"ticks\":\"\"}},\"ternary\":{\"bgcolor\":\"#E5ECF6\",\"aaxis\":{\"gridcolor\":\"white\",\"linecolor\":\"white\",\"ticks\":\"\"},\"baxis\":{\"gridcolor\":\"white\",\"linecolor\":\"white\",\"ticks\":\"\"},\"caxis\":{\"gridcolor\":\"white\",\"linecolor\":\"white\",\"ticks\":\"\"}},\"coloraxis\":{\"colorbar\":{\"outlinewidth\":0,\"ticks\":\"\"}},\"colorscale\":{\"sequential\":[[0.0,\"#0d0887\"],[0.1111111111111111,\"#46039f\"],[0.2222222222222222,\"#7201a8\"],[0.3333333333333333,\"#9c179e\"],[0.4444444444444444,\"#bd3786\"],[0.5555555555555556,\"#d8576b\"],[0.6666666666666666,\"#ed7953\"],[0.7777777777777778,\"#fb9f3a\"],[0.8888888888888888,\"#fdca26\"],[1.0,\"#f0f921\"]],\"sequentialminus\":[[0.0,\"#0d0887\"],[0.1111111111111111,\"#46039f\"],[0.2222222222222222,\"#7201a8\"],[0.3333333333333333,\"#9c179e\"],[0.4444444444444444,\"#bd3786\"],[0.5555555555555556,\"#d8576b\"],[0.6666666666666666,\"#ed7953\"],[0.7777777777777778,\"#fb9f3a\"],[0.8888888888888888,\"#fdca26\"],[1.0,\"#f0f921\"]],\"diverging\":[[0,\"#8e0152\"],[0.1,\"#c51b7d\"],[0.2,\"#de77ae\"],[0.3,\"#f1b6da\"],[0.4,\"#fde0ef\"],[0.5,\"#f7f7f7\"],[0.6,\"#e6f5d0\"],[0.7,\"#b8e186\"],[0.8,\"#7fbc41\"],[0.9,\"#4d9221\"],[1,\"#276419\"]]},\"xaxis\":{\"gridcolor\":\"white\",\"linecolor\":\"white\",\"ticks\":\"\",\"title\":{\"standoff\":15},\"zerolinecolor\":\"white\",\"automargin\":true,\"zerolinewidth\":2},\"yaxis\":{\"gridcolor\":\"white\",\"linecolor\":\"white\",\"ticks\":\"\",\"title\":{\"standoff\":15},\"zerolinecolor\":\"white\",\"automargin\":true,\"zerolinewidth\":2},\"scene\":{\"xaxis\":{\"backgroundcolor\":\"#E5ECF6\",\"gridcolor\":\"white\",\"linecolor\":\"white\",\"showbackground\":true,\"ticks\":\"\",\"zerolinecolor\":\"white\",\"gridwidth\":2},\"yaxis\":{\"backgroundcolor\":\"#E5ECF6\",\"gridcolor\":\"white\",\"linecolor\":\"white\",\"showbackground\":true,\"ticks\":\"\",\"zerolinecolor\":\"white\",\"gridwidth\":2},\"zaxis\":{\"backgroundcolor\":\"#E5ECF6\",\"gridcolor\":\"white\",\"linecolor\":\"white\",\"showbackground\":true,\"ticks\":\"\",\"zerolinecolor\":\"white\",\"gridwidth\":2}},\"shapedefaults\":{\"line\":{\"color\":\"#2a3f5f\"}},\"annotationdefaults\":{\"arrowcolor\":\"#2a3f5f\",\"arrowhead\":0,\"arrowwidth\":1},\"geo\":{\"bgcolor\":\"white\",\"landcolor\":\"#E5ECF6\",\"subunitcolor\":\"white\",\"showland\":true,\"showlakes\":true,\"lakecolor\":\"white\"},\"title\":{\"x\":0.05},\"mapbox\":{\"style\":\"light\"}}},\"mapbox\":{\"domain\":{\"x\":[0.0,1.0],\"y\":[0.0,1.0]},\"center\":{\"lat\":45.84083235857144,\"lon\":3.3967383449289335},\"zoom\":4.5,\"style\":\"carto-positron\"},\"coloraxis\":{\"colorbar\":{\"title\":{\"text\":\"temp\"}},\"colorscale\":[[0.0,\"#0d0887\"],[0.1111111111111111,\"#46039f\"],[0.2222222222222222,\"#7201a8\"],[0.3333333333333333,\"#9c179e\"],[0.4444444444444444,\"#bd3786\"],[0.5555555555555556,\"#d8576b\"],[0.6666666666666666,\"#ed7953\"],[0.7777777777777778,\"#fb9f3a\"],[0.8888888888888888,\"#fdca26\"],[1.0,\"#f0f921\"]]},\"legend\":{\"tracegroupgap\":0,\"itemsizing\":\"constant\"},\"margin\":{\"t\":60}},                        {\"responsive\": true}                    ).then(function(){\n",
              "                            \n",
              "var gd = document.getElementById('df9c0007-38db-4819-a1f2-c199693782b0');\n",
              "var x = new MutationObserver(function (mutations, observer) {{\n",
              "        var display = window.getComputedStyle(gd).display;\n",
              "        if (!display || display === 'none') {{\n",
              "            console.log([gd, 'removed!']);\n",
              "            Plotly.purge(gd);\n",
              "            observer.disconnect();\n",
              "        }}\n",
              "}});\n",
              "\n",
              "// Listen for the removal of the full notebook cells\n",
              "var notebookContainer = gd.closest('#notebook-container');\n",
              "if (notebookContainer) {{\n",
              "    x.observe(notebookContainer, {childList: true});\n",
              "}}\n",
              "\n",
              "// Listen for the clearing of the current output cell\n",
              "var outputEl = gd.closest('.output');\n",
              "if (outputEl) {{\n",
              "    x.observe(outputEl, {childList: true});\n",
              "}}\n",
              "\n",
              "                        })                };                            </script>        </div>\n",
              "</body>\n",
              "</html>"
            ]
          },
          "metadata": {}
        }
      ]
    },
    {
      "cell_type": "code",
      "source": [
        "!pip install scrapy"
      ],
      "metadata": {
        "colab": {
          "base_uri": "https://localhost:8080/"
        },
        "id": "wk2xAYJSbQMl",
        "outputId": "e93f64fc-e6f2-4d81-a6d0-98e7e23b3256"
      },
      "execution_count": 9,
      "outputs": [
        {
          "output_type": "stream",
          "name": "stdout",
          "text": [
            "Looking in indexes: https://pypi.org/simple, https://us-python.pkg.dev/colab-wheels/public/simple/\n",
            "Collecting scrapy\n",
            "  Downloading Scrapy-2.9.0-py2.py3-none-any.whl (277 kB)\n",
            "\u001b[2K     \u001b[90m━━━━━━━━━━━━━━━━━━━━━━━━━━━━━━━━━━━━━━━\u001b[0m \u001b[32m277.2/277.2 kB\u001b[0m \u001b[31m8.8 MB/s\u001b[0m eta \u001b[36m0:00:00\u001b[0m\n",
            "\u001b[?25hCollecting Twisted>=18.9.0 (from scrapy)\n",
            "  Downloading Twisted-22.10.0-py3-none-any.whl (3.1 MB)\n",
            "\u001b[2K     \u001b[90m━━━━━━━━━━━━━━━━━━━━━━━━━━━━━━━━━━━━━━━━\u001b[0m \u001b[32m3.1/3.1 MB\u001b[0m \u001b[31m41.0 MB/s\u001b[0m eta \u001b[36m0:00:00\u001b[0m\n",
            "\u001b[?25hRequirement already satisfied: cryptography>=3.4.6 in /usr/local/lib/python3.10/dist-packages (from scrapy) (40.0.2)\n",
            "Collecting cssselect>=0.9.1 (from scrapy)\n",
            "  Downloading cssselect-1.2.0-py2.py3-none-any.whl (18 kB)\n",
            "Collecting itemloaders>=1.0.1 (from scrapy)\n",
            "  Downloading itemloaders-1.1.0-py3-none-any.whl (11 kB)\n",
            "Collecting parsel>=1.5.0 (from scrapy)\n",
            "  Downloading parsel-1.8.1-py2.py3-none-any.whl (17 kB)\n",
            "Collecting pyOpenSSL>=21.0.0 (from scrapy)\n",
            "  Downloading pyOpenSSL-23.1.1-py3-none-any.whl (57 kB)\n",
            "\u001b[2K     \u001b[90m━━━━━━━━━━━━━━━━━━━━━━━━━━━━━━━━━━━━━━━━\u001b[0m \u001b[32m57.9/57.9 kB\u001b[0m \u001b[31m5.6 MB/s\u001b[0m eta \u001b[36m0:00:00\u001b[0m\n",
            "\u001b[?25hCollecting queuelib>=1.4.2 (from scrapy)\n",
            "  Downloading queuelib-1.6.2-py2.py3-none-any.whl (13 kB)\n",
            "Collecting service-identity>=18.1.0 (from scrapy)\n",
            "  Downloading service_identity-21.1.0-py2.py3-none-any.whl (12 kB)\n",
            "Collecting w3lib>=1.17.0 (from scrapy)\n",
            "  Downloading w3lib-2.1.1-py3-none-any.whl (21 kB)\n",
            "Collecting zope.interface>=5.1.0 (from scrapy)\n",
            "  Downloading zope.interface-6.0-cp310-cp310-manylinux_2_5_x86_64.manylinux1_x86_64.manylinux_2_17_x86_64.manylinux2014_x86_64.whl (246 kB)\n",
            "\u001b[2K     \u001b[90m━━━━━━━━━━━━━━━━━━━━━━━━━━━━━━━━━━━━━━\u001b[0m \u001b[32m247.0/247.0 kB\u001b[0m \u001b[31m22.3 MB/s\u001b[0m eta \u001b[36m0:00:00\u001b[0m\n",
            "\u001b[?25hCollecting protego>=0.1.15 (from scrapy)\n",
            "  Downloading Protego-0.2.1-py2.py3-none-any.whl (8.2 kB)\n",
            "Collecting itemadapter>=0.1.0 (from scrapy)\n",
            "  Downloading itemadapter-0.8.0-py3-none-any.whl (11 kB)\n",
            "Requirement already satisfied: setuptools in /usr/local/lib/python3.10/dist-packages (from scrapy) (67.7.2)\n",
            "Requirement already satisfied: packaging in /usr/local/lib/python3.10/dist-packages (from scrapy) (23.1)\n",
            "Collecting tldextract (from scrapy)\n",
            "  Downloading tldextract-3.4.1-py3-none-any.whl (92 kB)\n",
            "\u001b[2K     \u001b[90m━━━━━━━━━━━━━━━━━━━━━━━━━━━━━━━━━━━━━━━━\u001b[0m \u001b[32m92.9/92.9 kB\u001b[0m \u001b[31m9.9 MB/s\u001b[0m eta \u001b[36m0:00:00\u001b[0m\n",
            "\u001b[?25hRequirement already satisfied: lxml>=4.3.0 in /usr/local/lib/python3.10/dist-packages (from scrapy) (4.9.2)\n",
            "Collecting PyDispatcher>=2.0.5 (from scrapy)\n",
            "  Downloading PyDispatcher-2.0.7-py3-none-any.whl (12 kB)\n",
            "Requirement already satisfied: cffi>=1.12 in /usr/local/lib/python3.10/dist-packages (from cryptography>=3.4.6->scrapy) (1.15.1)\n",
            "Collecting jmespath>=0.9.5 (from itemloaders>=1.0.1->scrapy)\n",
            "  Downloading jmespath-1.0.1-py3-none-any.whl (20 kB)\n",
            "Requirement already satisfied: six in /usr/local/lib/python3.10/dist-packages (from protego>=0.1.15->scrapy) (1.16.0)\n",
            "Requirement already satisfied: attrs>=19.1.0 in /usr/local/lib/python3.10/dist-packages (from service-identity>=18.1.0->scrapy) (23.1.0)\n",
            "Requirement already satisfied: pyasn1-modules in /usr/local/lib/python3.10/dist-packages (from service-identity>=18.1.0->scrapy) (0.3.0)\n",
            "Requirement already satisfied: pyasn1 in /usr/local/lib/python3.10/dist-packages (from service-identity>=18.1.0->scrapy) (0.5.0)\n",
            "Collecting constantly>=15.1 (from Twisted>=18.9.0->scrapy)\n",
            "  Downloading constantly-15.1.0-py2.py3-none-any.whl (7.9 kB)\n",
            "Collecting incremental>=21.3.0 (from Twisted>=18.9.0->scrapy)\n",
            "  Downloading incremental-22.10.0-py2.py3-none-any.whl (16 kB)\n",
            "Collecting Automat>=0.8.0 (from Twisted>=18.9.0->scrapy)\n",
            "  Downloading Automat-22.10.0-py2.py3-none-any.whl (26 kB)\n",
            "Collecting hyperlink>=17.1.1 (from Twisted>=18.9.0->scrapy)\n",
            "  Downloading hyperlink-21.0.0-py2.py3-none-any.whl (74 kB)\n",
            "\u001b[2K     \u001b[90m━━━━━━━━━━━━━━━━━━━━━━━━━━━━━━━━━━━━━━━━\u001b[0m \u001b[32m74.6/74.6 kB\u001b[0m \u001b[31m8.0 MB/s\u001b[0m eta \u001b[36m0:00:00\u001b[0m\n",
            "\u001b[?25hRequirement already satisfied: typing-extensions>=3.6.5 in /usr/local/lib/python3.10/dist-packages (from Twisted>=18.9.0->scrapy) (4.5.0)\n",
            "Requirement already satisfied: idna in /usr/local/lib/python3.10/dist-packages (from tldextract->scrapy) (3.4)\n",
            "Requirement already satisfied: requests>=2.1.0 in /usr/local/lib/python3.10/dist-packages (from tldextract->scrapy) (2.27.1)\n",
            "Collecting requests-file>=1.4 (from tldextract->scrapy)\n",
            "  Downloading requests_file-1.5.1-py2.py3-none-any.whl (3.7 kB)\n",
            "Requirement already satisfied: filelock>=3.0.8 in /usr/local/lib/python3.10/dist-packages (from tldextract->scrapy) (3.12.0)\n",
            "Requirement already satisfied: pycparser in /usr/local/lib/python3.10/dist-packages (from cffi>=1.12->cryptography>=3.4.6->scrapy) (2.21)\n",
            "Requirement already satisfied: urllib3<1.27,>=1.21.1 in /usr/local/lib/python3.10/dist-packages (from requests>=2.1.0->tldextract->scrapy) (1.26.15)\n",
            "Requirement already satisfied: certifi>=2017.4.17 in /usr/local/lib/python3.10/dist-packages (from requests>=2.1.0->tldextract->scrapy) (2022.12.7)\n",
            "Requirement already satisfied: charset-normalizer~=2.0.0 in /usr/local/lib/python3.10/dist-packages (from requests>=2.1.0->tldextract->scrapy) (2.0.12)\n",
            "Installing collected packages: PyDispatcher, incremental, constantly, zope.interface, w3lib, queuelib, protego, jmespath, itemadapter, hyperlink, cssselect, Automat, Twisted, requests-file, parsel, tldextract, service-identity, pyOpenSSL, itemloaders, scrapy\n",
            "Successfully installed Automat-22.10.0 PyDispatcher-2.0.7 Twisted-22.10.0 constantly-15.1.0 cssselect-1.2.0 hyperlink-21.0.0 incremental-22.10.0 itemadapter-0.8.0 itemloaders-1.1.0 jmespath-1.0.1 parsel-1.8.1 protego-0.2.1 pyOpenSSL-23.1.1 queuelib-1.6.2 requests-file-1.5.1 scrapy-2.9.0 service-identity-21.1.0 tldextract-3.4.1 w3lib-2.1.1 zope.interface-6.0\n"
          ]
        }
      ]
    },
    {
      "cell_type": "code",
      "source": [
        "import scrapy\n",
        "\n",
        "class BookingSpider(scrapy.Spider):\n",
        "    name = 'booking'\n",
        "\n",
        "    def start_requests(self):\n",
        "        cities = ['Paris', 'Lyon', 'Marseille', 'Toulouse', 'Nice',\n",
        "                  'Nantes', 'Strasbourg', 'Montpellier', 'Bordeaux', 'Lille', 'Rennes', 'Reims',\n",
        "                  'Le Havre', 'Saint-Etienne', 'Toulon', 'Grenoble', 'Dijon', 'Angers', 'Nîmes',\n",
        "                  'Villeurbanne', 'Clermont-Ferrand', 'Le Mans', 'Aix-en-Provence', 'Brest', 'Tours',\n",
        "                  'Amiens', 'Limoges', 'Annecy', 'Perpignan', 'Boulogne-Billancourt', 'Metz', 'Besançon', 'Orléans', 'Saint-Denis']\n",
        "        urls = ['https://www.booking.com/searchresults.fr.html?label=gen173nr-1BCAEoggI46AdIM1gEaE2IAQGYAQ24ARfIAQzYAQHoAQGIAgGoAgO4Are5_6IGwAIB0gIkZDBlMDU2N2UtMWIzNS00YTg1LWI3MzMtMWM1YmIyNjNhYzZj2AIF4AIB&sid=76b517efa6e5fa2874309f0a3eb45809&aid=304142&ss=France&sb_entire_place=1&ssne=France&ssne_untouched=France&lang=fr&src=searchresults&dest_id=73&dest_type=country&checkin=2023-05-23&checkout=2023-05-24&group_adults=2&no_rooms=1&group_children=0&sb_travel_purpose=leisure&nflt=privacy_type%3D3%3Bht_id%3D204;city=-%s' % (city, city) for city in cities]\n",
        "\n",
        "    def parse(self, response):\n",
        "        # Récupération des informations sur les hôtels\n",
        "        for hotel in response.xpath('//div[@class=\"hotel\"]'):\n",
        "            name = hotel.xpath('.//h2[@class=\"hotel-name\"]/text()').get()\n",
        "            url = response.urljoin(hotel.xpath('./a/@href').get())\n",
        "            latitude = hotel.xpath('.//span[@class=\"latitude\"]/@data-value')\n",
        "            longitude = hotel.xpath('.//span[@class=\"longitude\"]/@data-value')\n",
        "            rating = hotel.xpath('.//span[@class=\"rating\"]/@data-value')\n",
        "            description = hotel.xpath('.//div[@class=\"description\"]/text()').get()\n",
        "\n",
        "            # Renvoi des informations sous forme de dictionnaire\n",
        "            yield {'name': name,\n",
        "                   'url': url,\n",
        "                   'latitude': latitude,\n",
        "                   'longitude': longitude,\n",
        "                   'rating': rating,\n",
        "                   'description': description}"
      ],
      "metadata": {
        "id": "3CUoPxXn6oHa"
      },
      "execution_count": 26,
      "outputs": []
    }
  ]
}